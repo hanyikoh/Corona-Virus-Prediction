{
  "nbformat": 4,
  "nbformat_minor": 0,
  "metadata": {
    "colab": {
      "name": "Hacklytics.ipynb",
      "provenance": [],
      "collapsed_sections": []
    },
    "kernelspec": {
      "name": "python3",
      "display_name": "Python 3"
    }
  },
  "cells": [
    {
      "cell_type": "markdown",
      "metadata": {
        "id": "_hlYC68MXt2w"
      },
      "source": [
        "# Hacklytics 2021\r\n",
        "\r\n",
        "All the best!"
      ]
    },
    {
      "cell_type": "code",
      "metadata": {
        "id": "eKS_PHXrYW_s",
        "colab": {
          "base_uri": "https://localhost:8080/"
        },
        "outputId": "c21002f6-18fc-4a7a-884a-df5008cbe965"
      },
      "source": [
        "from google.colab import drive\r\n",
        "drive.mount('/content/drive')"
      ],
      "execution_count": null,
      "outputs": [
        {
          "output_type": "stream",
          "text": [
            "Drive already mounted at /content/drive; to attempt to forcibly remount, call drive.mount(\"/content/drive\", force_remount=True).\n"
          ],
          "name": "stdout"
        }
      ]
    },
    {
      "cell_type": "code",
      "metadata": {
        "id": "boNz3gsmZ3vG"
      },
      "source": [
        "path = '/content/drive/Shareddrives/Hacklytics_2021/Datasets/'"
      ],
      "execution_count": null,
      "outputs": []
    },
    {
      "cell_type": "code",
      "metadata": {
        "id": "eO9GO-fyY48F"
      },
      "source": [
        "import pandas as pd\r\n",
        "import numpy as np\r\n",
        "import seaborn as sns\r\n",
        "import datetime\r\n",
        "import matplotlib\r\n",
        "import matplotlib.pyplot as plt\r\n",
        "df_wcc = pd.read_csv(path + 'world covid case.csv')\r\n",
        "df_cld = pd.read_csv(path + \"US Country Level Data.csv\") "
      ],
      "execution_count": null,
      "outputs": []
    },
    {
      "cell_type": "markdown",
      "metadata": {
        "id": "k0L36O1CV_nk"
      },
      "source": [
        "# US Country Level Data\r\n",
        "\r\n",
        "Format:  \r\n",
        "\r\n",
        "date/county/state/fips/cases/deaths"
      ]
    },
    {
      "cell_type": "code",
      "metadata": {
        "id": "jh_cVffRJmzJ",
        "colab": {
          "base_uri": "https://localhost:8080/"
        },
        "outputId": "d0f4a469-676e-40a7-9634-8e05e4d1ded6"
      },
      "source": [
        "df_cld.keys()"
      ],
      "execution_count": null,
      "outputs": [
        {
          "output_type": "execute_result",
          "data": {
            "text/plain": [
              "Index(['date', 'county', 'state', 'fips', 'cases', 'deaths'], dtype='object')"
            ]
          },
          "metadata": {
            "tags": []
          },
          "execution_count": 225
        }
      ]
    },
    {
      "cell_type": "code",
      "metadata": {
        "id": "FWzs76p9c0DH",
        "colab": {
          "base_uri": "https://localhost:8080/",
          "height": 195
        },
        "outputId": "b26f24aa-4778-4841-f3c5-3519f41bd0e3"
      },
      "source": [
        "df_cld.head()"
      ],
      "execution_count": null,
      "outputs": [
        {
          "output_type": "execute_result",
          "data": {
            "text/html": [
              "<div>\n",
              "<style scoped>\n",
              "    .dataframe tbody tr th:only-of-type {\n",
              "        vertical-align: middle;\n",
              "    }\n",
              "\n",
              "    .dataframe tbody tr th {\n",
              "        vertical-align: top;\n",
              "    }\n",
              "\n",
              "    .dataframe thead th {\n",
              "        text-align: right;\n",
              "    }\n",
              "</style>\n",
              "<table border=\"1\" class=\"dataframe\">\n",
              "  <thead>\n",
              "    <tr style=\"text-align: right;\">\n",
              "      <th></th>\n",
              "      <th>date</th>\n",
              "      <th>county</th>\n",
              "      <th>state</th>\n",
              "      <th>fips</th>\n",
              "      <th>cases</th>\n",
              "      <th>deaths</th>\n",
              "    </tr>\n",
              "  </thead>\n",
              "  <tbody>\n",
              "    <tr>\n",
              "      <th>0</th>\n",
              "      <td>2020-01-21</td>\n",
              "      <td>Snohomish</td>\n",
              "      <td>Washington</td>\n",
              "      <td>53061.0</td>\n",
              "      <td>1</td>\n",
              "      <td>0.0</td>\n",
              "    </tr>\n",
              "    <tr>\n",
              "      <th>1</th>\n",
              "      <td>2020-01-22</td>\n",
              "      <td>Snohomish</td>\n",
              "      <td>Washington</td>\n",
              "      <td>53061.0</td>\n",
              "      <td>1</td>\n",
              "      <td>0.0</td>\n",
              "    </tr>\n",
              "    <tr>\n",
              "      <th>2</th>\n",
              "      <td>2020-01-23</td>\n",
              "      <td>Snohomish</td>\n",
              "      <td>Washington</td>\n",
              "      <td>53061.0</td>\n",
              "      <td>1</td>\n",
              "      <td>0.0</td>\n",
              "    </tr>\n",
              "    <tr>\n",
              "      <th>3</th>\n",
              "      <td>2020-01-24</td>\n",
              "      <td>Cook</td>\n",
              "      <td>Illinois</td>\n",
              "      <td>17031.0</td>\n",
              "      <td>1</td>\n",
              "      <td>0.0</td>\n",
              "    </tr>\n",
              "    <tr>\n",
              "      <th>4</th>\n",
              "      <td>2020-01-24</td>\n",
              "      <td>Snohomish</td>\n",
              "      <td>Washington</td>\n",
              "      <td>53061.0</td>\n",
              "      <td>1</td>\n",
              "      <td>0.0</td>\n",
              "    </tr>\n",
              "  </tbody>\n",
              "</table>\n",
              "</div>"
            ],
            "text/plain": [
              "         date     county       state     fips  cases  deaths\n",
              "0  2020-01-21  Snohomish  Washington  53061.0      1     0.0\n",
              "1  2020-01-22  Snohomish  Washington  53061.0      1     0.0\n",
              "2  2020-01-23  Snohomish  Washington  53061.0      1     0.0\n",
              "3  2020-01-24       Cook    Illinois  17031.0      1     0.0\n",
              "4  2020-01-24  Snohomish  Washington  53061.0      1     0.0"
            ]
          },
          "metadata": {
            "tags": []
          },
          "execution_count": 226
        }
      ]
    },
    {
      "cell_type": "code",
      "metadata": {
        "id": "by3vfQlzEbjf",
        "colab": {
          "base_uri": "https://localhost:8080/"
        },
        "outputId": "8cc8d69b-3f78-4564-905d-3e357be8fd84"
      },
      "source": [
        "df_cld.shape"
      ],
      "execution_count": null,
      "outputs": [
        {
          "output_type": "execute_result",
          "data": {
            "text/plain": [
              "(998409, 6)"
            ]
          },
          "metadata": {
            "tags": []
          },
          "execution_count": 227
        }
      ]
    },
    {
      "cell_type": "code",
      "metadata": {
        "id": "QgRnA3lvdIgg",
        "colab": {
          "base_uri": "https://localhost:8080/"
        },
        "outputId": "223bbdda-8f93-4dcb-d9bc-4c0309676fae"
      },
      "source": [
        "df_cld.info()"
      ],
      "execution_count": null,
      "outputs": [
        {
          "output_type": "stream",
          "text": [
            "<class 'pandas.core.frame.DataFrame'>\n",
            "RangeIndex: 998409 entries, 0 to 998408\n",
            "Data columns (total 6 columns):\n",
            " #   Column  Non-Null Count   Dtype  \n",
            "---  ------  --------------   -----  \n",
            " 0   date    998409 non-null  object \n",
            " 1   county  998409 non-null  object \n",
            " 2   state   998409 non-null  object \n",
            " 3   fips    989140 non-null  float64\n",
            " 4   cases   998409 non-null  int64  \n",
            " 5   deaths  976918 non-null  float64\n",
            "dtypes: float64(2), int64(1), object(3)\n",
            "memory usage: 45.7+ MB\n"
          ],
          "name": "stdout"
        }
      ]
    },
    {
      "cell_type": "code",
      "metadata": {
        "id": "B1-KN1Lzdfxw"
      },
      "source": [
        "df_cld[\"date\"]= pd.to_datetime(df_cld[\"date\"]) "
      ],
      "execution_count": null,
      "outputs": []
    },
    {
      "cell_type": "markdown",
      "metadata": {
        "id": "PBOyPyyMhyN9"
      },
      "source": [
        "## Data Cleaning\r\n",
        "1. check for null\r\n",
        "2. check for unkown county / state\r\n",
        "3. check for duplicates( no duplicate row is found)"
      ]
    },
    {
      "cell_type": "code",
      "metadata": {
        "id": "7Q5WYGC2nnSl",
        "colab": {
          "base_uri": "https://localhost:8080/"
        },
        "outputId": "246bf927-0d47-45d9-cf3d-0b3522763e8c"
      },
      "source": [
        "#check for duplicates\r\n",
        "df_cld.duplicated().value_counts()"
      ],
      "execution_count": null,
      "outputs": [
        {
          "output_type": "execute_result",
          "data": {
            "text/plain": [
              "False    998409\n",
              "dtype: int64"
            ]
          },
          "metadata": {
            "tags": []
          },
          "execution_count": 230
        }
      ]
    },
    {
      "cell_type": "code",
      "metadata": {
        "id": "MI1WwrnGn2IZ"
      },
      "source": [
        "#check for missing data\r\n",
        "#filter = df_cld['fips'].isnull()\r\n",
        "df_cld['fips'] = df_cld['fips'].fillna(\"unknown\")"
      ],
      "execution_count": null,
      "outputs": []
    },
    {
      "cell_type": "code",
      "metadata": {
        "id": "Uv5K-ennh6qp",
        "colab": {
          "base_uri": "https://localhost:8080/"
        },
        "outputId": "f94983ff-b80c-4cf5-d66e-91f97b4339d0"
      },
      "source": [
        "# Check for unique county\r\n",
        "# 8381 of the county is unknown\r\n",
        "df_cld['county'].value_counts()"
      ],
      "execution_count": null,
      "outputs": [
        {
          "output_type": "execute_result",
          "data": {
            "text/plain": [
              "Washington              9862\n",
              "Unknown                 8381\n",
              "Jefferson               8253\n",
              "Franklin                7882\n",
              "Jackson                 7455\n",
              "                        ... \n",
              "Petroleum                123\n",
              "Skagway Municipality     112\n",
              "Esmeralda                 84\n",
              "Loving                    80\n",
              "Kalawao                   57\n",
              "Name: county, Length: 1930, dtype: int64"
            ]
          },
          "metadata": {
            "tags": []
          },
          "execution_count": 232
        }
      ]
    },
    {
      "cell_type": "code",
      "metadata": {
        "id": "pTjtzRd1k_zM",
        "colab": {
          "base_uri": "https://localhost:8080/"
        },
        "outputId": "405872fc-8888-45a2-90b2-e43a94cdd501"
      },
      "source": [
        "# fips == county\r\n",
        "df_cld['fips'].value_counts()"
      ],
      "execution_count": null,
      "outputs": [
        {
          "output_type": "execute_result",
          "data": {
            "text/plain": [
              "unknown    9269\n",
              "53061.0     381\n",
              "17031.0     378\n",
              "6059.0      377\n",
              "4013.0      376\n",
              "           ... \n",
              "48269.0     115\n",
              "2230.0      112\n",
              "32009.0      84\n",
              "48301.0      80\n",
              "15005.0      57\n",
              "Name: fips, Length: 3219, dtype: int64"
            ]
          },
          "metadata": {
            "tags": []
          },
          "execution_count": 233
        }
      ]
    },
    {
      "cell_type": "code",
      "metadata": {
        "id": "UKhdaT4ijzwe",
        "colab": {
          "base_uri": "https://localhost:8080/"
        },
        "outputId": "6a604842-1406-4c37-a514-8ff66aa4a07a"
      },
      "source": [
        "# 9269 rows \r\n",
        "df_cld['fips'].isnull().sum()"
      ],
      "execution_count": null,
      "outputs": [
        {
          "output_type": "execute_result",
          "data": {
            "text/plain": [
              "0"
            ]
          },
          "metadata": {
            "tags": []
          },
          "execution_count": 234
        }
      ]
    },
    {
      "cell_type": "code",
      "metadata": {
        "id": "qXZdn94vmEKr",
        "colab": {
          "base_uri": "https://localhost:8080/"
        },
        "outputId": "5887c8b7-e505-4c32-f17e-922b20b2f500"
      },
      "source": [
        "df_cld[['fips', 'county']].value_counts()"
      ],
      "execution_count": null,
      "outputs": [
        {
          "output_type": "execute_result",
          "data": {
            "text/plain": [
              "fips     county              \n",
              "unknown  Unknown                 8381\n",
              "53061.0  Snohomish                381\n",
              "17031.0  Cook                     378\n",
              "6059.0   Orange                   377\n",
              "6037.0   Los Angeles              376\n",
              "                                 ... \n",
              "48269.0  King                     115\n",
              "2230.0   Skagway Municipality     112\n",
              "32009.0  Esmeralda                 84\n",
              "48301.0  Loving                    80\n",
              "15005.0  Kalawao                   57\n",
              "Length: 3222, dtype: int64"
            ]
          },
          "metadata": {
            "tags": []
          },
          "execution_count": 235
        }
      ]
    },
    {
      "cell_type": "code",
      "metadata": {
        "id": "XMkx9MDKEOe_",
        "colab": {
          "base_uri": "https://localhost:8080/",
          "height": 402
        },
        "outputId": "bfd690e1-1aaa-4b73-da6c-b5c370998b3e"
      },
      "source": [
        "dfcld_incomplete_rows = df_cld[df_cld.isnull().any(axis=1)] \r\n",
        "dfcld_incomplete_rows"
      ],
      "execution_count": null,
      "outputs": [
        {
          "output_type": "execute_result",
          "data": {
            "text/html": [
              "<div>\n",
              "<style scoped>\n",
              "    .dataframe tbody tr th:only-of-type {\n",
              "        vertical-align: middle;\n",
              "    }\n",
              "\n",
              "    .dataframe tbody tr th {\n",
              "        vertical-align: top;\n",
              "    }\n",
              "\n",
              "    .dataframe thead th {\n",
              "        text-align: right;\n",
              "    }\n",
              "</style>\n",
              "<table border=\"1\" class=\"dataframe\">\n",
              "  <thead>\n",
              "    <tr style=\"text-align: right;\">\n",
              "      <th></th>\n",
              "      <th>date</th>\n",
              "      <th>county</th>\n",
              "      <th>state</th>\n",
              "      <th>fips</th>\n",
              "      <th>cases</th>\n",
              "      <th>deaths</th>\n",
              "    </tr>\n",
              "  </thead>\n",
              "  <tbody>\n",
              "    <tr>\n",
              "      <th>117486</th>\n",
              "      <td>2020-05-05</td>\n",
              "      <td>Adjuntas</td>\n",
              "      <td>Puerto Rico</td>\n",
              "      <td>72001</td>\n",
              "      <td>3</td>\n",
              "      <td>NaN</td>\n",
              "    </tr>\n",
              "    <tr>\n",
              "      <th>117487</th>\n",
              "      <td>2020-05-05</td>\n",
              "      <td>Aguada</td>\n",
              "      <td>Puerto Rico</td>\n",
              "      <td>72003</td>\n",
              "      <td>7</td>\n",
              "      <td>NaN</td>\n",
              "    </tr>\n",
              "    <tr>\n",
              "      <th>117488</th>\n",
              "      <td>2020-05-05</td>\n",
              "      <td>Aguadilla</td>\n",
              "      <td>Puerto Rico</td>\n",
              "      <td>72005</td>\n",
              "      <td>11</td>\n",
              "      <td>NaN</td>\n",
              "    </tr>\n",
              "    <tr>\n",
              "      <th>117489</th>\n",
              "      <td>2020-05-05</td>\n",
              "      <td>Aguas Buenas</td>\n",
              "      <td>Puerto Rico</td>\n",
              "      <td>72007</td>\n",
              "      <td>22</td>\n",
              "      <td>NaN</td>\n",
              "    </tr>\n",
              "    <tr>\n",
              "      <th>117490</th>\n",
              "      <td>2020-05-05</td>\n",
              "      <td>Aibonito</td>\n",
              "      <td>Puerto Rico</td>\n",
              "      <td>72009</td>\n",
              "      <td>13</td>\n",
              "      <td>NaN</td>\n",
              "    </tr>\n",
              "    <tr>\n",
              "      <th>...</th>\n",
              "      <td>...</td>\n",
              "      <td>...</td>\n",
              "      <td>...</td>\n",
              "      <td>...</td>\n",
              "      <td>...</td>\n",
              "      <td>...</td>\n",
              "    </tr>\n",
              "    <tr>\n",
              "      <th>997566</th>\n",
              "      <td>2021-02-04</td>\n",
              "      <td>Vega Baja</td>\n",
              "      <td>Puerto Rico</td>\n",
              "      <td>72145</td>\n",
              "      <td>2593</td>\n",
              "      <td>NaN</td>\n",
              "    </tr>\n",
              "    <tr>\n",
              "      <th>997567</th>\n",
              "      <td>2021-02-04</td>\n",
              "      <td>Vieques</td>\n",
              "      <td>Puerto Rico</td>\n",
              "      <td>72147</td>\n",
              "      <td>195</td>\n",
              "      <td>NaN</td>\n",
              "    </tr>\n",
              "    <tr>\n",
              "      <th>997568</th>\n",
              "      <td>2021-02-04</td>\n",
              "      <td>Villalba</td>\n",
              "      <td>Puerto Rico</td>\n",
              "      <td>72149</td>\n",
              "      <td>728</td>\n",
              "      <td>NaN</td>\n",
              "    </tr>\n",
              "    <tr>\n",
              "      <th>997569</th>\n",
              "      <td>2021-02-04</td>\n",
              "      <td>Yabucoa</td>\n",
              "      <td>Puerto Rico</td>\n",
              "      <td>72151</td>\n",
              "      <td>941</td>\n",
              "      <td>NaN</td>\n",
              "    </tr>\n",
              "    <tr>\n",
              "      <th>997570</th>\n",
              "      <td>2021-02-04</td>\n",
              "      <td>Yauco</td>\n",
              "      <td>Puerto Rico</td>\n",
              "      <td>72153</td>\n",
              "      <td>979</td>\n",
              "      <td>NaN</td>\n",
              "    </tr>\n",
              "  </tbody>\n",
              "</table>\n",
              "<p>21491 rows × 6 columns</p>\n",
              "</div>"
            ],
            "text/plain": [
              "             date        county        state   fips  cases  deaths\n",
              "117486 2020-05-05      Adjuntas  Puerto Rico  72001      3     NaN\n",
              "117487 2020-05-05        Aguada  Puerto Rico  72003      7     NaN\n",
              "117488 2020-05-05     Aguadilla  Puerto Rico  72005     11     NaN\n",
              "117489 2020-05-05  Aguas Buenas  Puerto Rico  72007     22     NaN\n",
              "117490 2020-05-05      Aibonito  Puerto Rico  72009     13     NaN\n",
              "...           ...           ...          ...    ...    ...     ...\n",
              "997566 2021-02-04     Vega Baja  Puerto Rico  72145   2593     NaN\n",
              "997567 2021-02-04       Vieques  Puerto Rico  72147    195     NaN\n",
              "997568 2021-02-04      Villalba  Puerto Rico  72149    728     NaN\n",
              "997569 2021-02-04       Yabucoa  Puerto Rico  72151    941     NaN\n",
              "997570 2021-02-04         Yauco  Puerto Rico  72153    979     NaN\n",
              "\n",
              "[21491 rows x 6 columns]"
            ]
          },
          "metadata": {
            "tags": []
          },
          "execution_count": 236
        }
      ]
    },
    {
      "cell_type": "code",
      "metadata": {
        "id": "zRXXUM77ji5b",
        "colab": {
          "base_uri": "https://localhost:8080/"
        },
        "outputId": "1f437d1d-e82c-4007-fd2b-7474015fd0f9"
      },
      "source": [
        "df_cld['state'].value_counts()"
      ],
      "execution_count": null,
      "outputs": [
        {
          "output_type": "execute_result",
          "data": {
            "text/plain": [
              "Texas                       75892\n",
              "Georgia                     50809\n",
              "Virginia                    41541\n",
              "Kentucky                    37012\n",
              "Missouri                    35428\n",
              "Illinois                    31813\n",
              "North Carolina              31509\n",
              "Iowa                        30770\n",
              "Kansas                      30571\n",
              "Tennessee                   30271\n",
              "Indiana                     29290\n",
              "Ohio                        27922\n",
              "Minnesota                   27139\n",
              "Michigan                    26310\n",
              "Mississippi                 26124\n",
              "Nebraska                    25863\n",
              "Arkansas                    23844\n",
              "Oklahoma                    23810\n",
              "Wisconsin                   22655\n",
              "Florida                     21878\n",
              "Puerto Rico                 21820\n",
              "Pennsylvania                21420\n",
              "Alabama                     21291\n",
              "Louisiana                   20808\n",
              "Colorado                    19895\n",
              "South Dakota                18994\n",
              "New York                    18838\n",
              "California                  18831\n",
              "West Virginia               16771\n",
              "North Dakota                15497\n",
              "South Carolina              14793\n",
              "Montana                     14728\n",
              "Washington                  12826\n",
              "Idaho                       12810\n",
              "Oregon                      11110\n",
              "New Mexico                  10049\n",
              "Utah                         9029\n",
              "Maryland                     8070\n",
              "Alaska                       7661\n",
              "New Jersey                   7231\n",
              "Wyoming                      7166\n",
              "Maine                        5360\n",
              "Massachusetts                4969\n",
              "Nevada                       4936\n",
              "Arizona                      4925\n",
              "Vermont                      4813\n",
              "New Hampshire                3519\n",
              "Connecticut                  2924\n",
              "Rhode Island                 1926\n",
              "Hawaii                       1403\n",
              "Delaware                     1279\n",
              "Virgin Islands               1046\n",
              "Northern Mariana Islands      558\n",
              "District of Columbia          335\n",
              "Guam                          327\n",
              "Name: state, dtype: int64"
            ]
          },
          "metadata": {
            "tags": []
          },
          "execution_count": 237
        }
      ]
    },
    {
      "cell_type": "markdown",
      "metadata": {
        "id": "us1-v_rNhhUh"
      },
      "source": [
        "## Cumulative Total\r\n",
        "1. total_us_cases = cumulative sum of cases\r\n",
        "2. total_us_deaths = cumulative sum of deaths"
      ]
    },
    {
      "cell_type": "code",
      "metadata": {
        "id": "Eri7iJ2Cf5bW",
        "colab": {
          "base_uri": "https://localhost:8080/",
          "height": 225
        },
        "outputId": "ea42233a-9256-45e4-e840-18465bb9da63"
      },
      "source": [
        "# Sum of cases on each invidual day\r\n",
        "total_us_cases = df_cld[['date', 'cases']].groupby(['date']).sum()\r\n",
        "total_us_cases.tail()"
      ],
      "execution_count": null,
      "outputs": [
        {
          "output_type": "execute_result",
          "data": {
            "text/html": [
              "<div>\n",
              "<style scoped>\n",
              "    .dataframe tbody tr th:only-of-type {\n",
              "        vertical-align: middle;\n",
              "    }\n",
              "\n",
              "    .dataframe tbody tr th {\n",
              "        vertical-align: top;\n",
              "    }\n",
              "\n",
              "    .dataframe thead th {\n",
              "        text-align: right;\n",
              "    }\n",
              "</style>\n",
              "<table border=\"1\" class=\"dataframe\">\n",
              "  <thead>\n",
              "    <tr style=\"text-align: right;\">\n",
              "      <th></th>\n",
              "      <th>cases</th>\n",
              "    </tr>\n",
              "    <tr>\n",
              "      <th>date</th>\n",
              "      <th></th>\n",
              "    </tr>\n",
              "  </thead>\n",
              "  <tbody>\n",
              "    <tr>\n",
              "      <th>2021-01-31</th>\n",
              "      <td>26219020</td>\n",
              "    </tr>\n",
              "    <tr>\n",
              "      <th>2021-02-01</th>\n",
              "      <td>26358607</td>\n",
              "    </tr>\n",
              "    <tr>\n",
              "      <th>2021-02-02</th>\n",
              "      <td>26476526</td>\n",
              "    </tr>\n",
              "    <tr>\n",
              "      <th>2021-02-03</th>\n",
              "      <td>26595540</td>\n",
              "    </tr>\n",
              "    <tr>\n",
              "      <th>2021-02-04</th>\n",
              "      <td>26722382</td>\n",
              "    </tr>\n",
              "  </tbody>\n",
              "</table>\n",
              "</div>"
            ],
            "text/plain": [
              "               cases\n",
              "date                \n",
              "2021-01-31  26219020\n",
              "2021-02-01  26358607\n",
              "2021-02-02  26476526\n",
              "2021-02-03  26595540\n",
              "2021-02-04  26722382"
            ]
          },
          "metadata": {
            "tags": []
          },
          "execution_count": 238
        }
      ]
    },
    {
      "cell_type": "code",
      "metadata": {
        "id": "intUs7thnvOu",
        "colab": {
          "base_uri": "https://localhost:8080/",
          "height": 225
        },
        "outputId": "3eedb994-4ef1-4058-c2aa-8faaaecc5943"
      },
      "source": [
        "total_us_deaths = df_cld[['date', 'deaths']].groupby(['date']).sum()\r\n",
        "total_us_deaths.tail()"
      ],
      "execution_count": null,
      "outputs": [
        {
          "output_type": "execute_result",
          "data": {
            "text/html": [
              "<div>\n",
              "<style scoped>\n",
              "    .dataframe tbody tr th:only-of-type {\n",
              "        vertical-align: middle;\n",
              "    }\n",
              "\n",
              "    .dataframe tbody tr th {\n",
              "        vertical-align: top;\n",
              "    }\n",
              "\n",
              "    .dataframe thead th {\n",
              "        text-align: right;\n",
              "    }\n",
              "</style>\n",
              "<table border=\"1\" class=\"dataframe\">\n",
              "  <thead>\n",
              "    <tr style=\"text-align: right;\">\n",
              "      <th></th>\n",
              "      <th>deaths</th>\n",
              "    </tr>\n",
              "    <tr>\n",
              "      <th>date</th>\n",
              "      <th></th>\n",
              "    </tr>\n",
              "  </thead>\n",
              "  <tbody>\n",
              "    <tr>\n",
              "      <th>2021-01-31</th>\n",
              "      <td>441285.0</td>\n",
              "    </tr>\n",
              "    <tr>\n",
              "      <th>2021-02-01</th>\n",
              "      <td>443235.0</td>\n",
              "    </tr>\n",
              "    <tr>\n",
              "      <th>2021-02-02</th>\n",
              "      <td>446846.0</td>\n",
              "    </tr>\n",
              "    <tr>\n",
              "      <th>2021-02-03</th>\n",
              "      <td>450689.0</td>\n",
              "    </tr>\n",
              "    <tr>\n",
              "      <th>2021-02-04</th>\n",
              "      <td>455805.0</td>\n",
              "    </tr>\n",
              "  </tbody>\n",
              "</table>\n",
              "</div>"
            ],
            "text/plain": [
              "              deaths\n",
              "date                \n",
              "2021-01-31  441285.0\n",
              "2021-02-01  443235.0\n",
              "2021-02-02  446846.0\n",
              "2021-02-03  450689.0\n",
              "2021-02-04  455805.0"
            ]
          },
          "metadata": {
            "tags": []
          },
          "execution_count": 239
        }
      ]
    },
    {
      "cell_type": "code",
      "metadata": {
        "id": "flXzTm4HglxT"
      },
      "source": [
        "# set the index to date\r\n",
        "total_us_cases.reset_index(inplace=True)\r\n",
        "total_us_deaths.reset_index(inplace=True)"
      ],
      "execution_count": null,
      "outputs": []
    },
    {
      "cell_type": "code",
      "metadata": {
        "id": "rpdr9OhXhXDX"
      },
      "source": [
        "total_us_cases = total_us_cases.sort_values('date', ascending=True)\r\n",
        "total_us_deaths = total_us_deaths.sort_values('date', ascending=True)"
      ],
      "execution_count": null,
      "outputs": []
    },
    {
      "cell_type": "code",
      "metadata": {
        "id": "j7pCPzgwtT0G",
        "colab": {
          "base_uri": "https://localhost:8080/"
        },
        "outputId": "254da810-7085-4df9-ddef-af016309da07"
      },
      "source": [
        "total_us_cases.value_counts()\r\n",
        "#total_us_deaths.value_counts()"
      ],
      "execution_count": null,
      "outputs": [
        {
          "output_type": "execute_result",
          "data": {
            "text/plain": [
              "date        cases   \n",
              "2021-02-04  26722382    1\n",
              "2020-05-29  1755271     1\n",
              "2020-05-20  1559640     1\n",
              "2020-05-21  1585373     1\n",
              "2020-05-22  1609172     1\n",
              "                       ..\n",
              "2020-10-02  7362732     1\n",
              "2020-10-03  7410511     1\n",
              "2020-10-04  7445574     1\n",
              "2020-10-05  7507986     1\n",
              "2020-01-21  1           1\n",
              "Length: 381, dtype: int64"
            ]
          },
          "metadata": {
            "tags": []
          },
          "execution_count": 242
        }
      ]
    },
    {
      "cell_type": "code",
      "metadata": {
        "id": "HULL7_Z9h_Wj",
        "colab": {
          "base_uri": "https://localhost:8080/",
          "height": 621
        },
        "outputId": "a0e41b84-c296-468d-853a-96e054ad0f51"
      },
      "source": [
        "\r\n",
        "fig, ax = plt.subplots(figsize=(20, 10))\r\n",
        "# x_values = [datetime.datetime.strptime(d,\"%m/%d/%Y\").date() for d in total_cases['date']]\r\n",
        "# dates = matplotlib.dates.date2num(total_cases['date'])\r\n",
        "# matplotlib.pyplot.plot_date(dates, values)\r\n",
        "# Add x-axis and y-axis\r\n",
        "ax.plot(total_us_cases['date'],\r\n",
        "        total_us_cases['cases'],\r\n",
        "        color='purple')\r\n",
        "\r\n",
        "# Set title and labels for axes\r\n",
        "ax.set(xlabel=\"Date\",\r\n",
        "       ylabel=\"Cases\",\r\n",
        "       title=\"Daily Total Cases of Covid 19 in US\")\r\n",
        "\r\n",
        "plt.show()\r\n"
      ],
      "execution_count": null,
      "outputs": [
        {
          "output_type": "display_data",
          "data": {
            "image/png": "[encoded data removed]",
            "text/plain": [
              "<Figure size 1440x720 with 1 Axes>"
            ]
          },
          "metadata": {
            "tags": [],
            "needs_background": "light"
          }
        }
      ]
    },
    {
      "cell_type": "code",
      "metadata": {
        "id": "tE1c0qKZsIzL",
        "colab": {
          "base_uri": "https://localhost:8080/",
          "height": 621
        },
        "outputId": "dc9eb51b-8a4e-4bbb-f61e-cc446f0a9c0a"
      },
      "source": [
        "fig, ax = plt.subplots(figsize=(20, 10))\r\n",
        "# x_values = [datetime.datetime.strptime(d,\"%m/%d/%Y\").date() for d in total_cases['date']]\r\n",
        "# dates = matplotlib.dates.date2num(total_cases['date'])\r\n",
        "# matplotlib.pyplot.plot_date(dates, values)\r\n",
        "# Add x-axis and y-axis\r\n",
        "\r\n",
        "ax.plot(total_us_deaths['date'],\r\n",
        "        total_us_deaths['deaths'],\r\n",
        "        color='red')\r\n",
        "# Set title and labels for axes\r\n",
        "ax.set(xlabel=\"Date\",\r\n",
        "       ylabel=\"Deaths\",\r\n",
        "       title=\"Daily Total Deaths of Covid 19 in US\")\r\n",
        "\r\n",
        "plt.show()"
      ],
      "execution_count": null,
      "outputs": [
        {
          "output_type": "display_data",
          "data": {
            "image/png": "[encoded data removed]",
            "text/plain": [
              "<Figure size 1440x720 with 1 Axes>"
            ]
          },
          "metadata": {
            "tags": [],
            "needs_background": "light"
          }
        }
      ]
    },
    {
      "cell_type": "code",
      "metadata": {
        "id": "RFmyd3dbrOGb",
        "colab": {
          "base_uri": "https://localhost:8080/",
          "height": 621
        },
        "outputId": "ee61da32-eb76-4876-a2b5-31915d0bb448"
      },
      "source": [
        "fig, ax = plt.subplots(figsize=(20, 10))\r\n",
        "# x_values = [datetime.datetime.strptime(d,\"%m/%d/%Y\").date() for d in total_cases['date']]\r\n",
        "# dates = matplotlib.dates.date2num(total_cases['date'])\r\n",
        "# matplotlib.pyplot.plot_date(dates, values)\r\n",
        "# Add x-axis and y-axis\r\n",
        "\r\n",
        "ax.plot(total_us_deaths['date'],\r\n",
        "        total_us_deaths['deaths'],\r\n",
        "        color='red',\r\n",
        "        label = \"Death cases\")\r\n",
        "\r\n",
        "ax.plot(total_us_cases['date'],\r\n",
        "        total_us_cases['cases'],\r\n",
        "        color='purple',\r\n",
        "        label = \"Confirmed cases\")\r\n",
        "\r\n",
        "\r\n",
        "# Set title and labels for axes\r\n",
        "ax.set(xlabel=\"Date\",\r\n",
        "       ylabel=\"Activity\",\r\n",
        "       title=\"Daily Total Activity of Covid 19 in US\")\r\n",
        "\r\n",
        "plt.grid(True)\r\n",
        "plt.legend()\r\n",
        "plt.show()"
      ],
      "execution_count": null,
      "outputs": [
        {
          "output_type": "display_data",
          "data": {
            "image/png": "[encoded data removed]",
            "text/plain": [
              "<Figure size 1440x720 with 1 Axes>"
            ]
          },
          "metadata": {
            "tags": [],
            "needs_background": "light"
          }
        }
      ]
    },
    {
      "cell_type": "code",
      "metadata": {
        "id": "plneq3Fxym43"
      },
      "source": [
        "total_county_state = df_cld[['county','state','cases','deaths']].groupby(['county','state']).sum()"
      ],
      "execution_count": null,
      "outputs": []
    },
    {
      "cell_type": "code",
      "metadata": {
        "id": "ZaZ-fOqrzB0O",
        "colab": {
          "base_uri": "https://localhost:8080/",
          "height": 195
        },
        "outputId": "c7ee2917-4cd5-4533-8fdb-5e8ca9d64cd7"
      },
      "source": [
        "total_county_state.sort_values(by=['cases', 'deaths'], ascending=False, inplace=True)\r\n",
        "total_county_state.reset_index(inplace=True)\r\n",
        "total_county_state.head()"
      ],
      "execution_count": null,
      "outputs": [
        {
          "output_type": "execute_result",
          "data": {
            "text/html": [
              "<div>\n",
              "<style scoped>\n",
              "    .dataframe tbody tr th:only-of-type {\n",
              "        vertical-align: middle;\n",
              "    }\n",
              "\n",
              "    .dataframe tbody tr th {\n",
              "        vertical-align: top;\n",
              "    }\n",
              "\n",
              "    .dataframe thead th {\n",
              "        text-align: right;\n",
              "    }\n",
              "</style>\n",
              "<table border=\"1\" class=\"dataframe\">\n",
              "  <thead>\n",
              "    <tr style=\"text-align: right;\">\n",
              "      <th></th>\n",
              "      <th>county</th>\n",
              "      <th>state</th>\n",
              "      <th>cases</th>\n",
              "      <th>deaths</th>\n",
              "    </tr>\n",
              "  </thead>\n",
              "  <tbody>\n",
              "    <tr>\n",
              "      <th>0</th>\n",
              "      <td>Los Angeles</td>\n",
              "      <td>California</td>\n",
              "      <td>94861901</td>\n",
              "      <td>1821109.0</td>\n",
              "    </tr>\n",
              "    <tr>\n",
              "      <th>1</th>\n",
              "      <td>New York City</td>\n",
              "      <td>New York</td>\n",
              "      <td>84710461</td>\n",
              "      <td>6889874.0</td>\n",
              "    </tr>\n",
              "    <tr>\n",
              "      <th>2</th>\n",
              "      <td>Cook</td>\n",
              "      <td>Illinois</td>\n",
              "      <td>54491615</td>\n",
              "      <td>1583260.0</td>\n",
              "    </tr>\n",
              "    <tr>\n",
              "      <th>3</th>\n",
              "      <td>Miami-Dade</td>\n",
              "      <td>Florida</td>\n",
              "      <td>45062269</td>\n",
              "      <td>741800.0</td>\n",
              "    </tr>\n",
              "    <tr>\n",
              "      <th>4</th>\n",
              "      <td>Maricopa</td>\n",
              "      <td>Arizona</td>\n",
              "      <td>44756677</td>\n",
              "      <td>835389.0</td>\n",
              "    </tr>\n",
              "  </tbody>\n",
              "</table>\n",
              "</div>"
            ],
            "text/plain": [
              "          county       state     cases     deaths\n",
              "0    Los Angeles  California  94861901  1821109.0\n",
              "1  New York City    New York  84710461  6889874.0\n",
              "2           Cook    Illinois  54491615  1583260.0\n",
              "3     Miami-Dade     Florida  45062269   741800.0\n",
              "4       Maricopa     Arizona  44756677   835389.0"
            ]
          },
          "metadata": {
            "tags": []
          },
          "execution_count": 247
        }
      ]
    },
    {
      "cell_type": "code",
      "metadata": {
        "id": "Lnj8hOER0Usf",
        "colab": {
          "base_uri": "https://localhost:8080/",
          "height": 624
        },
        "outputId": "74aa6888-0cfa-478d-c914-b0cb3e752e53"
      },
      "source": [
        "fig, ax = plt.subplots(figsize=(20, 10))\r\n",
        "\r\n",
        "width= 0.35\r\n",
        "labels = total_county_state.state.head(10)\r\n",
        "x = np.arange(len(labels))\r\n",
        "ax.bar(x - width/2, total_county_state.cases.head(10), width, label='Confirmed Cases')\r\n",
        "ax.bar(x + width/2, total_county_state.deaths.head(10), width, label='Deaths')\r\n",
        "\r\n",
        "# Add some text for labels, title and custom x-axis tick labels, etc.\r\n",
        "ax.set_ylabel('Numbers')\r\n",
        "ax.set_title('Top 10 Case & Deaths by State')\r\n",
        "ax.set_xticks(x)\r\n",
        "ax.set_xticklabels(labels)\r\n",
        "ax.legend()"
      ],
      "execution_count": null,
      "outputs": [
        {
          "output_type": "execute_result",
          "data": {
            "text/plain": [
              "<matplotlib.legend.Legend at 0x7f7a3a66c400>"
            ]
          },
          "metadata": {
            "tags": []
          },
          "execution_count": 248
        },
        {
          "output_type": "display_data",
          "data": {
            "image/png": "[encoded data removed]",
            "text/plain": [
              "<Figure size 1440x720 with 1 Axes>"
            ]
          },
          "metadata": {
            "tags": [],
            "needs_background": "light"
          }
        }
      ]
    },
    {
      "cell_type": "code",
      "metadata": {
        "id": "eqG0rpx0rBG6",
        "colab": {
          "base_uri": "https://localhost:8080/",
          "height": 195
        },
        "outputId": "beb3038b-1aec-41e7-d069-a4129b1055c5"
      },
      "source": [
        "total_us_cases.head()"
      ],
      "execution_count": null,
      "outputs": [
        {
          "output_type": "execute_result",
          "data": {
            "text/html": [
              "<div>\n",
              "<style scoped>\n",
              "    .dataframe tbody tr th:only-of-type {\n",
              "        vertical-align: middle;\n",
              "    }\n",
              "\n",
              "    .dataframe tbody tr th {\n",
              "        vertical-align: top;\n",
              "    }\n",
              "\n",
              "    .dataframe thead th {\n",
              "        text-align: right;\n",
              "    }\n",
              "</style>\n",
              "<table border=\"1\" class=\"dataframe\">\n",
              "  <thead>\n",
              "    <tr style=\"text-align: right;\">\n",
              "      <th></th>\n",
              "      <th>date</th>\n",
              "      <th>cases</th>\n",
              "    </tr>\n",
              "  </thead>\n",
              "  <tbody>\n",
              "    <tr>\n",
              "      <th>0</th>\n",
              "      <td>2020-01-21</td>\n",
              "      <td>1</td>\n",
              "    </tr>\n",
              "    <tr>\n",
              "      <th>1</th>\n",
              "      <td>2020-01-22</td>\n",
              "      <td>1</td>\n",
              "    </tr>\n",
              "    <tr>\n",
              "      <th>2</th>\n",
              "      <td>2020-01-23</td>\n",
              "      <td>1</td>\n",
              "    </tr>\n",
              "    <tr>\n",
              "      <th>3</th>\n",
              "      <td>2020-01-24</td>\n",
              "      <td>2</td>\n",
              "    </tr>\n",
              "    <tr>\n",
              "      <th>4</th>\n",
              "      <td>2020-01-25</td>\n",
              "      <td>3</td>\n",
              "    </tr>\n",
              "  </tbody>\n",
              "</table>\n",
              "</div>"
            ],
            "text/plain": [
              "        date  cases\n",
              "0 2020-01-21      1\n",
              "1 2020-01-22      1\n",
              "2 2020-01-23      1\n",
              "3 2020-01-24      2\n",
              "4 2020-01-25      3"
            ]
          },
          "metadata": {
            "tags": []
          },
          "execution_count": 249
        }
      ]
    },
    {
      "cell_type": "markdown",
      "metadata": {
        "id": "ZSY48DnzFMwH"
      },
      "source": [
        "##Average COVID-19 Cases of Each State in Year 2020"
      ]
    },
    {
      "cell_type": "code",
      "metadata": {
        "id": "4GxnFlhxzbue",
        "colab": {
          "base_uri": "https://localhost:8080/",
          "height": 738
        },
        "outputId": "d8aca319-7dea-4b1e-eea5-e8c919db44eb"
      },
      "source": [
        "#average cases of each state in Year 2020\r\n",
        "#Group by State\r\n",
        "\r\n",
        "matplotlib.style.use('seaborn-deep')\r\n",
        "\r\n",
        "year = (df_cld['date'] >= '2020-1-1') & (df_cld['date'] <= '2020-12-31')\r\n",
        "avg_state = df_cld[year].groupby('state').mean()\r\n",
        "\r\n",
        "avg_state.sort_values('state',ascending=True).plot(kind='bar', title=\"Average COVID-19 Cases of Each State in Year 2020\",ylabel=('Numbers'),figsize=(20,10),color=('turquoise','red'))\r\n",
        "plt.grid(True)\r\n",
        "plt.legend(['Confirmed Cases','Deaths'])\r\n",
        "plt.show()"
      ],
      "execution_count": null,
      "outputs": [
        {
          "output_type": "display_data",
          "data": {
            "image/png": "[encoded data removed]",
            "text/plain": [
              "<Figure size 1440x720 with 1 Axes>"
            ]
          },
          "metadata": {
            "tags": [],
            "needs_background": "light"
          }
        }
      ]
    },
    {
      "cell_type": "code",
      "metadata": {
        "id": "J5WYW7ztE1r-",
        "colab": {
          "base_uri": "https://localhost:8080/",
          "height": 621
        },
        "outputId": "8d52287c-3aa4-4a9b-e71d-d74fac11881d"
      },
      "source": [
        "#average cases of each state in Year 2020\r\n",
        "#Group by State\r\n",
        "matplotlib.style.use('seaborn-deep')\r\n",
        "\r\n",
        "year = (df_cld['date'] >= '2020-1-1') & (df_cld['date'] <= '2020-12-31')\r\n",
        "avg_state = df_cld[year].groupby('state').mean()\r\n",
        "\r\n",
        "avg_state.sort_values('state',ascending=True).plot(title=\"Average COVID-19 Cases Based on States in Year 2020\",ylabel=('Numbers'),figsize=(20,10),color=('deepskyblue','red'))\r\n",
        "plt.grid(True)\r\n",
        "plt.legend(['Confirmed Cases','Deaths'])\r\n",
        "plt.show()"
      ],
      "execution_count": null,
      "outputs": [
        {
          "output_type": "display_data",
          "data": {
            "image/png": "[encoded data removed]",
            "text/plain": [
              "<Figure size 1440x720 with 1 Axes>"
            ]
          },
          "metadata": {
            "tags": [],
            "needs_background": "light"
          }
        }
      ]
    },
    {
      "cell_type": "markdown",
      "metadata": {
        "id": "H2vUq8Gq7zAU"
      },
      "source": [
        "## Correlation\r\n"
      ]
    },
    {
      "cell_type": "code",
      "metadata": {
        "id": "ddZTnrRR7ypH",
        "colab": {
          "base_uri": "https://localhost:8080/",
          "height": 284
        },
        "outputId": "cc293f6c-1bb8-4fbd-a95c-b0a2496022be"
      },
      "source": [
        "df_cld.describe()"
      ],
      "execution_count": null,
      "outputs": [
        {
          "output_type": "execute_result",
          "data": {
            "text/html": [
              "<div>\n",
              "<style scoped>\n",
              "    .dataframe tbody tr th:only-of-type {\n",
              "        vertical-align: middle;\n",
              "    }\n",
              "\n",
              "    .dataframe tbody tr th {\n",
              "        vertical-align: top;\n",
              "    }\n",
              "\n",
              "    .dataframe thead th {\n",
              "        text-align: right;\n",
              "    }\n",
              "</style>\n",
              "<table border=\"1\" class=\"dataframe\">\n",
              "  <thead>\n",
              "    <tr style=\"text-align: right;\">\n",
              "      <th></th>\n",
              "      <th>cases</th>\n",
              "      <th>deaths</th>\n",
              "    </tr>\n",
              "  </thead>\n",
              "  <tbody>\n",
              "    <tr>\n",
              "      <th>count</th>\n",
              "      <td>9.984090e+05</td>\n",
              "      <td>976918.000000</td>\n",
              "    </tr>\n",
              "    <tr>\n",
              "      <th>mean</th>\n",
              "      <td>2.567480e+03</td>\n",
              "      <td>61.853465</td>\n",
              "    </tr>\n",
              "    <tr>\n",
              "      <th>std</th>\n",
              "      <td>1.369838e+04</td>\n",
              "      <td>476.314798</td>\n",
              "    </tr>\n",
              "    <tr>\n",
              "      <th>min</th>\n",
              "      <td>0.000000e+00</td>\n",
              "      <td>0.000000</td>\n",
              "    </tr>\n",
              "    <tr>\n",
              "      <th>25%</th>\n",
              "      <td>4.700000e+01</td>\n",
              "      <td>1.000000</td>\n",
              "    </tr>\n",
              "    <tr>\n",
              "      <th>50%</th>\n",
              "      <td>3.110000e+02</td>\n",
              "      <td>5.000000</td>\n",
              "    </tr>\n",
              "    <tr>\n",
              "      <th>75%</th>\n",
              "      <td>1.332000e+03</td>\n",
              "      <td>28.000000</td>\n",
              "    </tr>\n",
              "    <tr>\n",
              "      <th>max</th>\n",
              "      <td>1.134820e+06</td>\n",
              "      <td>27428.000000</td>\n",
              "    </tr>\n",
              "  </tbody>\n",
              "</table>\n",
              "</div>"
            ],
            "text/plain": [
              "              cases         deaths\n",
              "count  9.984090e+05  976918.000000\n",
              "mean   2.567480e+03      61.853465\n",
              "std    1.369838e+04     476.314798\n",
              "min    0.000000e+00       0.000000\n",
              "25%    4.700000e+01       1.000000\n",
              "50%    3.110000e+02       5.000000\n",
              "75%    1.332000e+03      28.000000\n",
              "max    1.134820e+06   27428.000000"
            ]
          },
          "metadata": {
            "tags": []
          },
          "execution_count": 252
        }
      ]
    },
    {
      "cell_type": "code",
      "metadata": {
        "id": "lteC2XqL8lTs",
        "colab": {
          "base_uri": "https://localhost:8080/",
          "height": 286
        },
        "outputId": "94ac52ff-b369-4710-a03d-7f3fd381868a"
      },
      "source": [
        "sns.heatmap(df_cld.corr())"
      ],
      "execution_count": null,
      "outputs": [
        {
          "output_type": "execute_result",
          "data": {
            "text/plain": [
              "<matplotlib.axes._subplots.AxesSubplot at 0x7f7a3a322dd8>"
            ]
          },
          "metadata": {
            "tags": []
          },
          "execution_count": 253
        },
        {
          "output_type": "display_data",
          "data": {
            "image/png": "[encoded data removed]",
            "text/plain": [
              "<Figure size 432x288 with 2 Axes>"
            ]
          },
          "metadata": {
            "tags": [],
            "needs_background": "light"
          }
        }
      ]
    },
    {
      "cell_type": "markdown",
      "metadata": {
        "id": "YMoryTqiLOEQ"
      },
      "source": [
        "## **Prediction**"
      ]
    },
    {
      "cell_type": "markdown",
      "metadata": {
        "id": "EQUgSxVELUno"
      },
      "source": [
        "1.   Store the confirmed cases in US in a list\r\n",
        "2.   Count the days and store in list \r\n",
        "3.   Count the deaths and store in list \r\n",
        "\r\n",
        "\r\n",
        "\r\n",
        "\r\n",
        "\r\n"
      ]
    },
    {
      "cell_type": "code",
      "metadata": {
        "id": "qZEwdX5rL9R1"
      },
      "source": [
        "US_cases = np.array(total_us_cases.cases)\r\n",
        "US_deaths = np.array(total_us_deaths.deaths).reshape(-1,1)\r\n",
        "US_states = np.array(total_county_state.state).tolist()\r\n",
        "days_since_1_21 = np.array([i for i in range(len(total_us_cases.date))]).reshape(-1,1)\r\n",
        "dates = (df_cld.date.unique()).reshape(-1,1)"
      ],
      "execution_count": null,
      "outputs": []
    },
    {
      "cell_type": "code",
      "metadata": {
        "id": "0TsuYUkSMwsl"
      },
      "source": [
        "days_in_future = 10\r\n",
        "future_forecast = np.array([i for i in range(len(days_since_1_21) + days_in_future)]).reshape(-1,1)"
      ],
      "execution_count": null,
      "outputs": []
    },
    {
      "cell_type": "code",
      "metadata": {
        "id": "7zWrOPBCOOHl"
      },
      "source": [
        "start_date = datetime.datetime.strptime('1/21/2020', '%m/%d/%Y')\r\n",
        "future_forecast_dates = []\r\n",
        "for i in range(len(future_forecast)):\r\n",
        "  future_forecast_dates.append((start_date + datetime.timedelta(days=i)).strftime('%m/%d/%Y'))"
      ],
      "execution_count": null,
      "outputs": []
    },
    {
      "cell_type": "code",
      "metadata": {
        "id": "ANCoRzwA8vqq"
      },
      "source": [
        "df_train = pd.DataFrame({\"Dates\":future_forecast_dates[:-10], \"Cases\": US_cases})\r\n",
        "df_train['Dates'] = pd.to_datetime(df_train['Dates'])\r\n",
        "df_train['Dates']=df_train['Dates'].map(datetime.datetime.toordinal)"
      ],
      "execution_count": null,
      "outputs": []
    },
    {
      "cell_type": "code",
      "metadata": {
        "id": "5Zn3vMfm_A03",
        "colab": {
          "base_uri": "https://localhost:8080/",
          "height": 195
        },
        "outputId": "efa4d636-bb2b-482e-f57b-783a4d7d94ce"
      },
      "source": [
        "df_train.head()"
      ],
      "execution_count": null,
      "outputs": [
        {
          "output_type": "execute_result",
          "data": {
            "text/html": [
              "<div>\n",
              "<style scoped>\n",
              "    .dataframe tbody tr th:only-of-type {\n",
              "        vertical-align: middle;\n",
              "    }\n",
              "\n",
              "    .dataframe tbody tr th {\n",
              "        vertical-align: top;\n",
              "    }\n",
              "\n",
              "    .dataframe thead th {\n",
              "        text-align: right;\n",
              "    }\n",
              "</style>\n",
              "<table border=\"1\" class=\"dataframe\">\n",
              "  <thead>\n",
              "    <tr style=\"text-align: right;\">\n",
              "      <th></th>\n",
              "      <th>Dates</th>\n",
              "      <th>Cases</th>\n",
              "    </tr>\n",
              "  </thead>\n",
              "  <tbody>\n",
              "    <tr>\n",
              "      <th>0</th>\n",
              "      <td>737445</td>\n",
              "      <td>1</td>\n",
              "    </tr>\n",
              "    <tr>\n",
              "      <th>1</th>\n",
              "      <td>737446</td>\n",
              "      <td>1</td>\n",
              "    </tr>\n",
              "    <tr>\n",
              "      <th>2</th>\n",
              "      <td>737447</td>\n",
              "      <td>1</td>\n",
              "    </tr>\n",
              "    <tr>\n",
              "      <th>3</th>\n",
              "      <td>737448</td>\n",
              "      <td>2</td>\n",
              "    </tr>\n",
              "    <tr>\n",
              "      <th>4</th>\n",
              "      <td>737449</td>\n",
              "      <td>3</td>\n",
              "    </tr>\n",
              "  </tbody>\n",
              "</table>\n",
              "</div>"
            ],
            "text/plain": [
              "    Dates  Cases\n",
              "0  737445      1\n",
              "1  737446      1\n",
              "2  737447      1\n",
              "3  737448      2\n",
              "4  737449      3"
            ]
          },
          "metadata": {
            "tags": []
          },
          "execution_count": 258
        }
      ]
    },
    {
      "cell_type": "code",
      "metadata": {
        "id": "xL50l3GyeVcS",
        "colab": {
          "base_uri": "https://localhost:8080/"
        },
        "outputId": "26ecb2c1-4861-485b-e25e-bcca8a069fcc"
      },
      "source": [
        " from sklearn.utils import shuffle\r\n",
        " from sklearn.linear_model import LinearRegression\r\n",
        " from sklearn.model_selection import train_test_split\r\n",
        " X_train, X_test, y_train, y_test = train_test_split(df_train['Dates'].values.reshape(-1,1), df_train['Cases'].values.reshape(-1,1), test_size=0.30, random_state=0)\r\n",
        " model = LinearRegression() #create linear regression object\r\n",
        " model.fit(X_train, y_train) #train model on   train data\r\n",
        " model.score(X_train, y_train) #check score"
      ],
      "execution_count": null,
      "outputs": [
        {
          "output_type": "execute_result",
          "data": {
            "text/plain": [
              "0.8253063158848017"
            ]
          },
          "metadata": {
            "tags": []
          },
          "execution_count": 259
        }
      ]
    },
    {
      "cell_type": "markdown",
      "metadata": {
        "id": "naS6uCBa-LEW"
      },
      "source": [
        "#### Predict the cases for the next ten days"
      ]
    },
    {
      "cell_type": "code",
      "metadata": {
        "id": "a-1z-PlB-YT2"
      },
      "source": [
        "future_ten_days = [datetime.datetime.strptime(date, '%m/%d/%Y').date() for date in future_forecast_dates[-10:]]\r\n",
        "future_ten_days = np.array([datetime.datetime.toordinal(date) for date in future_ten_days]).reshape(-1,1)\r\n",
        "yhat_predict = model.predict(future_ten_days)\r\n",
        "# model.predict(np.array(future_ten_days).reshape(-1,1))"
      ],
      "execution_count": null,
      "outputs": []
    },
    {
      "cell_type": "code",
      "metadata": {
        "id": "jhU7GnL4FbsL",
        "colab": {
          "base_uri": "https://localhost:8080/"
        },
        "outputId": "502bc48e-1913-4b00-8d8c-dcb46dd16a4b"
      },
      "source": [
        "type(yhat_predict)\r\n",
        "yhat_predict.reshape(1,-1).tolist()[0]"
      ],
      "execution_count": null,
      "outputs": [
        {
          "output_type": "execute_result",
          "data": {
            "text/plain": [
              "[18658804.020469666,\n",
              " 18721219.85472107,\n",
              " 18783635.688964844,\n",
              " 18846051.523216248,\n",
              " 18908467.35746765,\n",
              " 18970883.191719055,\n",
              " 19033299.02596283,\n",
              " 19095714.860214233,\n",
              " 19158130.694465637,\n",
              " 19220546.52870941]"
            ]
          },
          "metadata": {
            "tags": []
          },
          "execution_count": 261
        }
      ]
    },
    {
      "cell_type": "code",
      "metadata": {
        "id": "q1eXr-bZB-tb",
        "colab": {
          "base_uri": "https://localhost:8080/",
          "height": 444
        },
        "outputId": "6905944e-c1e5-49af-83b5-19e906dc2711"
      },
      "source": [
        "fig, ax = plt.subplots(figsize=(20, 7))\r\n",
        "width= 0.35\r\n",
        "labels = future_forecast_dates[-10:]\r\n",
        "x = np.arange(len(labels))\r\n",
        "ax.bar(x - width/2, yhat_predict.reshape(1,-1).tolist()[0], width, label='Predicting Cases')\r\n",
        "\r\n",
        "for i, v in enumerate(yhat_predict):\r\n",
        "    plt.text(x[i]- 0.4, v + 300000, str(int(v)))\r\n",
        "# Add some text for labels, title and custom x-axis tick labels, etc.\r\n",
        "ax.set_ylabel('Numbers')\r\n",
        "ax.set_title('Corona Cases Prediction for The Next Ten Days')\r\n",
        "ax.set_xticks(x- width/2)\r\n",
        "ax.set_xticklabels(labels)\r\n",
        "ax.legend()\r\n",
        "plt.show()"
      ],
      "execution_count": null,
      "outputs": [
        {
          "output_type": "display_data",
          "data": {
            "image/png": "[encoded data removed]",
            "text/plain": [
              "<Figure size 1440x504 with 1 Axes>"
            ]
          },
          "metadata": {
            "tags": [],
            "needs_background": "light"
          }
        }
      ]
    },
    {
      "cell_type": "code",
      "metadata": {
        "id": "KRBO_M8aNttU"
      },
      "source": [
        "import pickle\r\n",
        "\r\n",
        "with open('model.pkl', 'wb') as handle:\r\n",
        "    pickle.dump(model, handle, pickle.HIGHEST_PROTOCOL)"
      ],
      "execution_count": null,
      "outputs": []
    },
    {
      "cell_type": "code",
      "metadata": {
        "id": "XpuCpBB5voN5",
        "colab": {
          "base_uri": "https://localhost:8080/"
        },
        "outputId": "55e280e3-a99a-4930-85c3-3b3615d4f582"
      },
      "source": [
        "with open('model.pkl', 'rb') as handle:\r\n",
        "    loadedModel = pickle.load(handle)  \r\n",
        "loadedModel.predict(future_ten_days)"
      ],
      "execution_count": null,
      "outputs": [
        {
          "output_type": "execute_result",
          "data": {
            "text/plain": [
              "array([[18658804.02046967],\n",
              "       [18721219.85472107],\n",
              "       [18783635.68896484],\n",
              "       [18846051.52321625],\n",
              "       [18908467.35746765],\n",
              "       [18970883.19171906],\n",
              "       [19033299.02596283],\n",
              "       [19095714.86021423],\n",
              "       [19158130.69446564],\n",
              "       [19220546.52870941]])"
            ]
          },
          "metadata": {
            "tags": []
          },
          "execution_count": 271
        }
      ]
    },
    {
      "cell_type": "code",
      "metadata": {
        "id": "KFzA4XyTvuZn"
      },
      "source": [
        ""
      ],
      "execution_count": null,
      "outputs": []
    },
    {
      "cell_type": "markdown",
      "metadata": {
        "id": "WCht2ynV-5Uu"
      },
      "source": [
        "# World Covid Case\r\n",
        "\r\n",
        "Format:\r\n",
        "\r\n",
        "iso_code /continent /location /date \r\n",
        "\r\n",
        "/total_cases /new_cases /new_cases_smoothed \r\n",
        "\r\n",
        "/total_deaths\t/new_deaths\t/new_deaths_smoothed\t\r\n",
        "\r\n",
        "/total_cases_per_million /new_cases_per_million \r\n",
        "/new_cases_smoothed_per_million\t\r\n",
        "\r\n",
        "/total_deaths_per_million\t/new_deaths_per_million\t/new_deaths_smoothed_per_million\r\n",
        "\r\n",
        "/reproduction_rate\t\r\n",
        "\r\n",
        "/icu_patients\t/icu_patients_per_million\t\r\n",
        "\r\n",
        "/hosp_patients\t/hosp_patients_per_million\r\n",
        "\r\n",
        "/weekly_icu_admissions\t/weekly_icu_admissions_per_million\t\r\n",
        "\r\n",
        "/weekly_hosp_admissions /weekly_hosp_admissions_per_million\t\r\n",
        "\r\n",
        "/new_tests\ttotal_tests\t/total_tests_per_thousand\t/new_tests_per_thousand\t/new_tests_smoothed\t/new_tests_smoothed_per_thousand\t/positive_rate\t/tests_per_case\t/tests_units\t/total_vaccinations\t/people_vaccinated\t/people_fully_vaccinated\t/new_vaccinations\t/new_vaccinations_smoothed\t/total_vaccinations_per_hundred\t/people_vaccinated_per_hundred\t/people_fully_vaccinated_per_hundred\t/new_vaccinations_smoothed_per_million\r\n",
        "\r\n",
        "/stringency_index\t/population\t/population_density\t/median_age\t/aged_65_older\t/aged_70_older\t/gdp_per_capita\t/extreme_poverty\t/cardiovasc_death_rate\t/diabetes_prevalence\t/female_smokers\t/male_smokers\t/handwashing_facilities\t/hospital_beds_per_thousand\t/life_expectancy\t/human_development_index"
      ]
    },
    {
      "cell_type": "code",
      "metadata": {
        "id": "eLQRfkgBCRys",
        "colab": {
          "base_uri": "https://localhost:8080/"
        },
        "outputId": "93da2637-0669-4b01-c382-aa8799259934"
      },
      "source": [
        "df_wcc.shape"
      ],
      "execution_count": null,
      "outputs": [
        {
          "output_type": "execute_result",
          "data": {
            "text/plain": [
              "(35898, 59)"
            ]
          },
          "metadata": {
            "tags": []
          },
          "execution_count": 265
        }
      ]
    },
    {
      "cell_type": "code",
      "metadata": {
        "id": "bt2tLDLU_CA3",
        "colab": {
          "base_uri": "https://localhost:8080/",
          "height": 531
        },
        "outputId": "1a26f3da-acec-420a-8a5b-6c8486cf47df"
      },
      "source": [
        "df_wcc.head(10)"
      ],
      "execution_count": null,
      "outputs": [
        {
          "output_type": "execute_result",
          "data": {
            "text/html": [
              "<div>\n",
              "<style scoped>\n",
              "    .dataframe tbody tr th:only-of-type {\n",
              "        vertical-align: middle;\n",
              "    }\n",
              "\n",
              "    .dataframe tbody tr th {\n",
              "        vertical-align: top;\n",
              "    }\n",
              "\n",
              "    .dataframe thead th {\n",
              "        text-align: right;\n",
              "    }\n",
              "</style>\n",
              "<table border=\"1\" class=\"dataframe\">\n",
              "  <thead>\n",
              "    <tr style=\"text-align: right;\">\n",
              "      <th></th>\n",
              "      <th>iso_code</th>\n",
              "      <th>continent</th>\n",
              "      <th>location</th>\n",
              "      <th>date</th>\n",
              "      <th>total_cases</th>\n",
              "      <th>new_cases</th>\n",
              "      <th>new_cases_smoothed</th>\n",
              "      <th>total_deaths</th>\n",
              "      <th>new_deaths</th>\n",
              "      <th>new_deaths_smoothed</th>\n",
              "      <th>total_cases_per_million</th>\n",
              "      <th>new_cases_per_million</th>\n",
              "      <th>new_cases_smoothed_per_million</th>\n",
              "      <th>total_deaths_per_million</th>\n",
              "      <th>new_deaths_per_million</th>\n",
              "      <th>new_deaths_smoothed_per_million</th>\n",
              "      <th>reproduction_rate</th>\n",
              "      <th>icu_patients</th>\n",
              "      <th>icu_patients_per_million</th>\n",
              "      <th>hosp_patients</th>\n",
              "      <th>hosp_patients_per_million</th>\n",
              "      <th>weekly_icu_admissions</th>\n",
              "      <th>weekly_icu_admissions_per_million</th>\n",
              "      <th>weekly_hosp_admissions</th>\n",
              "      <th>weekly_hosp_admissions_per_million</th>\n",
              "      <th>new_tests</th>\n",
              "      <th>total_tests</th>\n",
              "      <th>total_tests_per_thousand</th>\n",
              "      <th>new_tests_per_thousand</th>\n",
              "      <th>new_tests_smoothed</th>\n",
              "      <th>new_tests_smoothed_per_thousand</th>\n",
              "      <th>positive_rate</th>\n",
              "      <th>tests_per_case</th>\n",
              "      <th>tests_units</th>\n",
              "      <th>total_vaccinations</th>\n",
              "      <th>people_vaccinated</th>\n",
              "      <th>people_fully_vaccinated</th>\n",
              "      <th>new_vaccinations</th>\n",
              "      <th>new_vaccinations_smoothed</th>\n",
              "      <th>total_vaccinations_per_hundred</th>\n",
              "      <th>people_vaccinated_per_hundred</th>\n",
              "      <th>people_fully_vaccinated_per_hundred</th>\n",
              "      <th>new_vaccinations_smoothed_per_million</th>\n",
              "      <th>stringency_index</th>\n",
              "      <th>population</th>\n",
              "      <th>population_density</th>\n",
              "      <th>median_age</th>\n",
              "      <th>aged_65_older</th>\n",
              "      <th>aged_70_older</th>\n",
              "      <th>gdp_per_capita</th>\n",
              "      <th>extreme_poverty</th>\n",
              "      <th>cardiovasc_death_rate</th>\n",
              "      <th>diabetes_prevalence</th>\n",
              "      <th>female_smokers</th>\n",
              "      <th>male_smokers</th>\n",
              "      <th>handwashing_facilities</th>\n",
              "      <th>hospital_beds_per_thousand</th>\n",
              "      <th>life_expectancy</th>\n",
              "      <th>human_development_index</th>\n",
              "    </tr>\n",
              "  </thead>\n",
              "  <tbody>\n",
              "    <tr>\n",
              "      <th>0</th>\n",
              "      <td>AFG</td>\n",
              "      <td>Asia</td>\n",
              "      <td>Afghanistan</td>\n",
              "      <td>2020-02-24</td>\n",
              "      <td>1.0</td>\n",
              "      <td>1.0</td>\n",
              "      <td>NaN</td>\n",
              "      <td>NaN</td>\n",
              "      <td>NaN</td>\n",
              "      <td>NaN</td>\n",
              "      <td>0.026</td>\n",
              "      <td>0.026</td>\n",
              "      <td>NaN</td>\n",
              "      <td>NaN</td>\n",
              "      <td>NaN</td>\n",
              "      <td>NaN</td>\n",
              "      <td>NaN</td>\n",
              "      <td>NaN</td>\n",
              "      <td>NaN</td>\n",
              "      <td>NaN</td>\n",
              "      <td>NaN</td>\n",
              "      <td>NaN</td>\n",
              "      <td>NaN</td>\n",
              "      <td>NaN</td>\n",
              "      <td>NaN</td>\n",
              "      <td>NaN</td>\n",
              "      <td>NaN</td>\n",
              "      <td>NaN</td>\n",
              "      <td>NaN</td>\n",
              "      <td>NaN</td>\n",
              "      <td>NaN</td>\n",
              "      <td>NaN</td>\n",
              "      <td>NaN</td>\n",
              "      <td>NaN</td>\n",
              "      <td>NaN</td>\n",
              "      <td>NaN</td>\n",
              "      <td>NaN</td>\n",
              "      <td>NaN</td>\n",
              "      <td>NaN</td>\n",
              "      <td>NaN</td>\n",
              "      <td>NaN</td>\n",
              "      <td>NaN</td>\n",
              "      <td>NaN</td>\n",
              "      <td>8.33</td>\n",
              "      <td>38928341.0</td>\n",
              "      <td>54.422</td>\n",
              "      <td>18.6</td>\n",
              "      <td>2.581</td>\n",
              "      <td>1.337</td>\n",
              "      <td>1803.987</td>\n",
              "      <td>NaN</td>\n",
              "      <td>597.029</td>\n",
              "      <td>9.59</td>\n",
              "      <td>NaN</td>\n",
              "      <td>NaN</td>\n",
              "      <td>37.746</td>\n",
              "      <td>0.5</td>\n",
              "      <td>64.83</td>\n",
              "      <td>0.498</td>\n",
              "    </tr>\n",
              "    <tr>\n",
              "      <th>1</th>\n",
              "      <td>AFG</td>\n",
              "      <td>Asia</td>\n",
              "      <td>Afghanistan</td>\n",
              "      <td>2020-02-25</td>\n",
              "      <td>1.0</td>\n",
              "      <td>0.0</td>\n",
              "      <td>NaN</td>\n",
              "      <td>NaN</td>\n",
              "      <td>NaN</td>\n",
              "      <td>NaN</td>\n",
              "      <td>0.026</td>\n",
              "      <td>0.000</td>\n",
              "      <td>NaN</td>\n",
              "      <td>NaN</td>\n",
              "      <td>NaN</td>\n",
              "      <td>NaN</td>\n",
              "      <td>NaN</td>\n",
              "      <td>NaN</td>\n",
              "      <td>NaN</td>\n",
              "      <td>NaN</td>\n",
              "      <td>NaN</td>\n",
              "      <td>NaN</td>\n",
              "      <td>NaN</td>\n",
              "      <td>NaN</td>\n",
              "      <td>NaN</td>\n",
              "      <td>NaN</td>\n",
              "      <td>NaN</td>\n",
              "      <td>NaN</td>\n",
              "      <td>NaN</td>\n",
              "      <td>NaN</td>\n",
              "      <td>NaN</td>\n",
              "      <td>NaN</td>\n",
              "      <td>NaN</td>\n",
              "      <td>NaN</td>\n",
              "      <td>NaN</td>\n",
              "      <td>NaN</td>\n",
              "      <td>NaN</td>\n",
              "      <td>NaN</td>\n",
              "      <td>NaN</td>\n",
              "      <td>NaN</td>\n",
              "      <td>NaN</td>\n",
              "      <td>NaN</td>\n",
              "      <td>NaN</td>\n",
              "      <td>8.33</td>\n",
              "      <td>38928341.0</td>\n",
              "      <td>54.422</td>\n",
              "      <td>18.6</td>\n",
              "      <td>2.581</td>\n",
              "      <td>1.337</td>\n",
              "      <td>1803.987</td>\n",
              "      <td>NaN</td>\n",
              "      <td>597.029</td>\n",
              "      <td>9.59</td>\n",
              "      <td>NaN</td>\n",
              "      <td>NaN</td>\n",
              "      <td>37.746</td>\n",
              "      <td>0.5</td>\n",
              "      <td>64.83</td>\n",
              "      <td>0.498</td>\n",
              "    </tr>\n",
              "    <tr>\n",
              "      <th>2</th>\n",
              "      <td>AFG</td>\n",
              "      <td>Asia</td>\n",
              "      <td>Afghanistan</td>\n",
              "      <td>2020-02-26</td>\n",
              "      <td>1.0</td>\n",
              "      <td>0.0</td>\n",
              "      <td>NaN</td>\n",
              "      <td>NaN</td>\n",
              "      <td>NaN</td>\n",
              "      <td>NaN</td>\n",
              "      <td>0.026</td>\n",
              "      <td>0.000</td>\n",
              "      <td>NaN</td>\n",
              "      <td>NaN</td>\n",
              "      <td>NaN</td>\n",
              "      <td>NaN</td>\n",
              "      <td>NaN</td>\n",
              "      <td>NaN</td>\n",
              "      <td>NaN</td>\n",
              "      <td>NaN</td>\n",
              "      <td>NaN</td>\n",
              "      <td>NaN</td>\n",
              "      <td>NaN</td>\n",
              "      <td>NaN</td>\n",
              "      <td>NaN</td>\n",
              "      <td>NaN</td>\n",
              "      <td>NaN</td>\n",
              "      <td>NaN</td>\n",
              "      <td>NaN</td>\n",
              "      <td>NaN</td>\n",
              "      <td>NaN</td>\n",
              "      <td>NaN</td>\n",
              "      <td>NaN</td>\n",
              "      <td>NaN</td>\n",
              "      <td>NaN</td>\n",
              "      <td>NaN</td>\n",
              "      <td>NaN</td>\n",
              "      <td>NaN</td>\n",
              "      <td>NaN</td>\n",
              "      <td>NaN</td>\n",
              "      <td>NaN</td>\n",
              "      <td>NaN</td>\n",
              "      <td>NaN</td>\n",
              "      <td>8.33</td>\n",
              "      <td>38928341.0</td>\n",
              "      <td>54.422</td>\n",
              "      <td>18.6</td>\n",
              "      <td>2.581</td>\n",
              "      <td>1.337</td>\n",
              "      <td>1803.987</td>\n",
              "      <td>NaN</td>\n",
              "      <td>597.029</td>\n",
              "      <td>9.59</td>\n",
              "      <td>NaN</td>\n",
              "      <td>NaN</td>\n",
              "      <td>37.746</td>\n",
              "      <td>0.5</td>\n",
              "      <td>64.83</td>\n",
              "      <td>0.498</td>\n",
              "    </tr>\n",
              "    <tr>\n",
              "      <th>3</th>\n",
              "      <td>AFG</td>\n",
              "      <td>Asia</td>\n",
              "      <td>Afghanistan</td>\n",
              "      <td>2020-02-27</td>\n",
              "      <td>1.0</td>\n",
              "      <td>0.0</td>\n",
              "      <td>NaN</td>\n",
              "      <td>NaN</td>\n",
              "      <td>NaN</td>\n",
              "      <td>NaN</td>\n",
              "      <td>0.026</td>\n",
              "      <td>0.000</td>\n",
              "      <td>NaN</td>\n",
              "      <td>NaN</td>\n",
              "      <td>NaN</td>\n",
              "      <td>NaN</td>\n",
              "      <td>NaN</td>\n",
              "      <td>NaN</td>\n",
              "      <td>NaN</td>\n",
              "      <td>NaN</td>\n",
              "      <td>NaN</td>\n",
              "      <td>NaN</td>\n",
              "      <td>NaN</td>\n",
              "      <td>NaN</td>\n",
              "      <td>NaN</td>\n",
              "      <td>NaN</td>\n",
              "      <td>NaN</td>\n",
              "      <td>NaN</td>\n",
              "      <td>NaN</td>\n",
              "      <td>NaN</td>\n",
              "      <td>NaN</td>\n",
              "      <td>NaN</td>\n",
              "      <td>NaN</td>\n",
              "      <td>NaN</td>\n",
              "      <td>NaN</td>\n",
              "      <td>NaN</td>\n",
              "      <td>NaN</td>\n",
              "      <td>NaN</td>\n",
              "      <td>NaN</td>\n",
              "      <td>NaN</td>\n",
              "      <td>NaN</td>\n",
              "      <td>NaN</td>\n",
              "      <td>NaN</td>\n",
              "      <td>8.33</td>\n",
              "      <td>38928341.0</td>\n",
              "      <td>54.422</td>\n",
              "      <td>18.6</td>\n",
              "      <td>2.581</td>\n",
              "      <td>1.337</td>\n",
              "      <td>1803.987</td>\n",
              "      <td>NaN</td>\n",
              "      <td>597.029</td>\n",
              "      <td>9.59</td>\n",
              "      <td>NaN</td>\n",
              "      <td>NaN</td>\n",
              "      <td>37.746</td>\n",
              "      <td>0.5</td>\n",
              "      <td>64.83</td>\n",
              "      <td>0.498</td>\n",
              "    </tr>\n",
              "    <tr>\n",
              "      <th>4</th>\n",
              "      <td>AFG</td>\n",
              "      <td>Asia</td>\n",
              "      <td>Afghanistan</td>\n",
              "      <td>2020-02-28</td>\n",
              "      <td>1.0</td>\n",
              "      <td>0.0</td>\n",
              "      <td>NaN</td>\n",
              "      <td>NaN</td>\n",
              "      <td>NaN</td>\n",
              "      <td>NaN</td>\n",
              "      <td>0.026</td>\n",
              "      <td>0.000</td>\n",
              "      <td>NaN</td>\n",
              "      <td>NaN</td>\n",
              "      <td>NaN</td>\n",
              "      <td>NaN</td>\n",
              "      <td>NaN</td>\n",
              "      <td>NaN</td>\n",
              "      <td>NaN</td>\n",
              "      <td>NaN</td>\n",
              "      <td>NaN</td>\n",
              "      <td>NaN</td>\n",
              "      <td>NaN</td>\n",
              "      <td>NaN</td>\n",
              "      <td>NaN</td>\n",
              "      <td>NaN</td>\n",
              "      <td>NaN</td>\n",
              "      <td>NaN</td>\n",
              "      <td>NaN</td>\n",
              "      <td>NaN</td>\n",
              "      <td>NaN</td>\n",
              "      <td>NaN</td>\n",
              "      <td>NaN</td>\n",
              "      <td>NaN</td>\n",
              "      <td>NaN</td>\n",
              "      <td>NaN</td>\n",
              "      <td>NaN</td>\n",
              "      <td>NaN</td>\n",
              "      <td>NaN</td>\n",
              "      <td>NaN</td>\n",
              "      <td>NaN</td>\n",
              "      <td>NaN</td>\n",
              "      <td>NaN</td>\n",
              "      <td>8.33</td>\n",
              "      <td>38928341.0</td>\n",
              "      <td>54.422</td>\n",
              "      <td>18.6</td>\n",
              "      <td>2.581</td>\n",
              "      <td>1.337</td>\n",
              "      <td>1803.987</td>\n",
              "      <td>NaN</td>\n",
              "      <td>597.029</td>\n",
              "      <td>9.59</td>\n",
              "      <td>NaN</td>\n",
              "      <td>NaN</td>\n",
              "      <td>37.746</td>\n",
              "      <td>0.5</td>\n",
              "      <td>64.83</td>\n",
              "      <td>0.498</td>\n",
              "    </tr>\n",
              "    <tr>\n",
              "      <th>5</th>\n",
              "      <td>AFG</td>\n",
              "      <td>Asia</td>\n",
              "      <td>Afghanistan</td>\n",
              "      <td>2020-02-29</td>\n",
              "      <td>1.0</td>\n",
              "      <td>0.0</td>\n",
              "      <td>0.143</td>\n",
              "      <td>NaN</td>\n",
              "      <td>NaN</td>\n",
              "      <td>0.0</td>\n",
              "      <td>0.026</td>\n",
              "      <td>0.000</td>\n",
              "      <td>0.004</td>\n",
              "      <td>NaN</td>\n",
              "      <td>NaN</td>\n",
              "      <td>0.0</td>\n",
              "      <td>NaN</td>\n",
              "      <td>NaN</td>\n",
              "      <td>NaN</td>\n",
              "      <td>NaN</td>\n",
              "      <td>NaN</td>\n",
              "      <td>NaN</td>\n",
              "      <td>NaN</td>\n",
              "      <td>NaN</td>\n",
              "      <td>NaN</td>\n",
              "      <td>NaN</td>\n",
              "      <td>NaN</td>\n",
              "      <td>NaN</td>\n",
              "      <td>NaN</td>\n",
              "      <td>NaN</td>\n",
              "      <td>NaN</td>\n",
              "      <td>NaN</td>\n",
              "      <td>NaN</td>\n",
              "      <td>NaN</td>\n",
              "      <td>NaN</td>\n",
              "      <td>NaN</td>\n",
              "      <td>NaN</td>\n",
              "      <td>NaN</td>\n",
              "      <td>NaN</td>\n",
              "      <td>NaN</td>\n",
              "      <td>NaN</td>\n",
              "      <td>NaN</td>\n",
              "      <td>NaN</td>\n",
              "      <td>8.33</td>\n",
              "      <td>38928341.0</td>\n",
              "      <td>54.422</td>\n",
              "      <td>18.6</td>\n",
              "      <td>2.581</td>\n",
              "      <td>1.337</td>\n",
              "      <td>1803.987</td>\n",
              "      <td>NaN</td>\n",
              "      <td>597.029</td>\n",
              "      <td>9.59</td>\n",
              "      <td>NaN</td>\n",
              "      <td>NaN</td>\n",
              "      <td>37.746</td>\n",
              "      <td>0.5</td>\n",
              "      <td>64.83</td>\n",
              "      <td>0.498</td>\n",
              "    </tr>\n",
              "    <tr>\n",
              "      <th>6</th>\n",
              "      <td>AFG</td>\n",
              "      <td>Asia</td>\n",
              "      <td>Afghanistan</td>\n",
              "      <td>2020-03-01</td>\n",
              "      <td>1.0</td>\n",
              "      <td>0.0</td>\n",
              "      <td>0.143</td>\n",
              "      <td>NaN</td>\n",
              "      <td>NaN</td>\n",
              "      <td>0.0</td>\n",
              "      <td>0.026</td>\n",
              "      <td>0.000</td>\n",
              "      <td>0.004</td>\n",
              "      <td>NaN</td>\n",
              "      <td>NaN</td>\n",
              "      <td>0.0</td>\n",
              "      <td>NaN</td>\n",
              "      <td>NaN</td>\n",
              "      <td>NaN</td>\n",
              "      <td>NaN</td>\n",
              "      <td>NaN</td>\n",
              "      <td>NaN</td>\n",
              "      <td>NaN</td>\n",
              "      <td>NaN</td>\n",
              "      <td>NaN</td>\n",
              "      <td>NaN</td>\n",
              "      <td>NaN</td>\n",
              "      <td>NaN</td>\n",
              "      <td>NaN</td>\n",
              "      <td>NaN</td>\n",
              "      <td>NaN</td>\n",
              "      <td>NaN</td>\n",
              "      <td>NaN</td>\n",
              "      <td>NaN</td>\n",
              "      <td>NaN</td>\n",
              "      <td>NaN</td>\n",
              "      <td>NaN</td>\n",
              "      <td>NaN</td>\n",
              "      <td>NaN</td>\n",
              "      <td>NaN</td>\n",
              "      <td>NaN</td>\n",
              "      <td>NaN</td>\n",
              "      <td>NaN</td>\n",
              "      <td>27.78</td>\n",
              "      <td>38928341.0</td>\n",
              "      <td>54.422</td>\n",
              "      <td>18.6</td>\n",
              "      <td>2.581</td>\n",
              "      <td>1.337</td>\n",
              "      <td>1803.987</td>\n",
              "      <td>NaN</td>\n",
              "      <td>597.029</td>\n",
              "      <td>9.59</td>\n",
              "      <td>NaN</td>\n",
              "      <td>NaN</td>\n",
              "      <td>37.746</td>\n",
              "      <td>0.5</td>\n",
              "      <td>64.83</td>\n",
              "      <td>0.498</td>\n",
              "    </tr>\n",
              "    <tr>\n",
              "      <th>7</th>\n",
              "      <td>AFG</td>\n",
              "      <td>Asia</td>\n",
              "      <td>Afghanistan</td>\n",
              "      <td>2020-03-02</td>\n",
              "      <td>1.0</td>\n",
              "      <td>0.0</td>\n",
              "      <td>0.000</td>\n",
              "      <td>NaN</td>\n",
              "      <td>NaN</td>\n",
              "      <td>0.0</td>\n",
              "      <td>0.026</td>\n",
              "      <td>0.000</td>\n",
              "      <td>0.000</td>\n",
              "      <td>NaN</td>\n",
              "      <td>NaN</td>\n",
              "      <td>0.0</td>\n",
              "      <td>NaN</td>\n",
              "      <td>NaN</td>\n",
              "      <td>NaN</td>\n",
              "      <td>NaN</td>\n",
              "      <td>NaN</td>\n",
              "      <td>NaN</td>\n",
              "      <td>NaN</td>\n",
              "      <td>NaN</td>\n",
              "      <td>NaN</td>\n",
              "      <td>NaN</td>\n",
              "      <td>NaN</td>\n",
              "      <td>NaN</td>\n",
              "      <td>NaN</td>\n",
              "      <td>NaN</td>\n",
              "      <td>NaN</td>\n",
              "      <td>NaN</td>\n",
              "      <td>NaN</td>\n",
              "      <td>NaN</td>\n",
              "      <td>NaN</td>\n",
              "      <td>NaN</td>\n",
              "      <td>NaN</td>\n",
              "      <td>NaN</td>\n",
              "      <td>NaN</td>\n",
              "      <td>NaN</td>\n",
              "      <td>NaN</td>\n",
              "      <td>NaN</td>\n",
              "      <td>NaN</td>\n",
              "      <td>27.78</td>\n",
              "      <td>38928341.0</td>\n",
              "      <td>54.422</td>\n",
              "      <td>18.6</td>\n",
              "      <td>2.581</td>\n",
              "      <td>1.337</td>\n",
              "      <td>1803.987</td>\n",
              "      <td>NaN</td>\n",
              "      <td>597.029</td>\n",
              "      <td>9.59</td>\n",
              "      <td>NaN</td>\n",
              "      <td>NaN</td>\n",
              "      <td>37.746</td>\n",
              "      <td>0.5</td>\n",
              "      <td>64.83</td>\n",
              "      <td>0.498</td>\n",
              "    </tr>\n",
              "    <tr>\n",
              "      <th>8</th>\n",
              "      <td>AFG</td>\n",
              "      <td>Asia</td>\n",
              "      <td>Afghanistan</td>\n",
              "      <td>2020-03-03</td>\n",
              "      <td>2.0</td>\n",
              "      <td>1.0</td>\n",
              "      <td>0.143</td>\n",
              "      <td>NaN</td>\n",
              "      <td>NaN</td>\n",
              "      <td>0.0</td>\n",
              "      <td>0.051</td>\n",
              "      <td>0.026</td>\n",
              "      <td>0.004</td>\n",
              "      <td>NaN</td>\n",
              "      <td>NaN</td>\n",
              "      <td>0.0</td>\n",
              "      <td>NaN</td>\n",
              "      <td>NaN</td>\n",
              "      <td>NaN</td>\n",
              "      <td>NaN</td>\n",
              "      <td>NaN</td>\n",
              "      <td>NaN</td>\n",
              "      <td>NaN</td>\n",
              "      <td>NaN</td>\n",
              "      <td>NaN</td>\n",
              "      <td>NaN</td>\n",
              "      <td>NaN</td>\n",
              "      <td>NaN</td>\n",
              "      <td>NaN</td>\n",
              "      <td>NaN</td>\n",
              "      <td>NaN</td>\n",
              "      <td>NaN</td>\n",
              "      <td>NaN</td>\n",
              "      <td>NaN</td>\n",
              "      <td>NaN</td>\n",
              "      <td>NaN</td>\n",
              "      <td>NaN</td>\n",
              "      <td>NaN</td>\n",
              "      <td>NaN</td>\n",
              "      <td>NaN</td>\n",
              "      <td>NaN</td>\n",
              "      <td>NaN</td>\n",
              "      <td>NaN</td>\n",
              "      <td>27.78</td>\n",
              "      <td>38928341.0</td>\n",
              "      <td>54.422</td>\n",
              "      <td>18.6</td>\n",
              "      <td>2.581</td>\n",
              "      <td>1.337</td>\n",
              "      <td>1803.987</td>\n",
              "      <td>NaN</td>\n",
              "      <td>597.029</td>\n",
              "      <td>9.59</td>\n",
              "      <td>NaN</td>\n",
              "      <td>NaN</td>\n",
              "      <td>37.746</td>\n",
              "      <td>0.5</td>\n",
              "      <td>64.83</td>\n",
              "      <td>0.498</td>\n",
              "    </tr>\n",
              "    <tr>\n",
              "      <th>9</th>\n",
              "      <td>AFG</td>\n",
              "      <td>Asia</td>\n",
              "      <td>Afghanistan</td>\n",
              "      <td>2020-03-04</td>\n",
              "      <td>4.0</td>\n",
              "      <td>2.0</td>\n",
              "      <td>0.429</td>\n",
              "      <td>NaN</td>\n",
              "      <td>NaN</td>\n",
              "      <td>0.0</td>\n",
              "      <td>0.103</td>\n",
              "      <td>0.051</td>\n",
              "      <td>0.011</td>\n",
              "      <td>NaN</td>\n",
              "      <td>NaN</td>\n",
              "      <td>0.0</td>\n",
              "      <td>NaN</td>\n",
              "      <td>NaN</td>\n",
              "      <td>NaN</td>\n",
              "      <td>NaN</td>\n",
              "      <td>NaN</td>\n",
              "      <td>NaN</td>\n",
              "      <td>NaN</td>\n",
              "      <td>NaN</td>\n",
              "      <td>NaN</td>\n",
              "      <td>NaN</td>\n",
              "      <td>NaN</td>\n",
              "      <td>NaN</td>\n",
              "      <td>NaN</td>\n",
              "      <td>NaN</td>\n",
              "      <td>NaN</td>\n",
              "      <td>NaN</td>\n",
              "      <td>NaN</td>\n",
              "      <td>NaN</td>\n",
              "      <td>NaN</td>\n",
              "      <td>NaN</td>\n",
              "      <td>NaN</td>\n",
              "      <td>NaN</td>\n",
              "      <td>NaN</td>\n",
              "      <td>NaN</td>\n",
              "      <td>NaN</td>\n",
              "      <td>NaN</td>\n",
              "      <td>NaN</td>\n",
              "      <td>27.78</td>\n",
              "      <td>38928341.0</td>\n",
              "      <td>54.422</td>\n",
              "      <td>18.6</td>\n",
              "      <td>2.581</td>\n",
              "      <td>1.337</td>\n",
              "      <td>1803.987</td>\n",
              "      <td>NaN</td>\n",
              "      <td>597.029</td>\n",
              "      <td>9.59</td>\n",
              "      <td>NaN</td>\n",
              "      <td>NaN</td>\n",
              "      <td>37.746</td>\n",
              "      <td>0.5</td>\n",
              "      <td>64.83</td>\n",
              "      <td>0.498</td>\n",
              "    </tr>\n",
              "  </tbody>\n",
              "</table>\n",
              "</div>"
            ],
            "text/plain": [
              "  iso_code continent  ... life_expectancy human_development_index\n",
              "0      AFG      Asia  ...           64.83                   0.498\n",
              "1      AFG      Asia  ...           64.83                   0.498\n",
              "2      AFG      Asia  ...           64.83                   0.498\n",
              "3      AFG      Asia  ...           64.83                   0.498\n",
              "4      AFG      Asia  ...           64.83                   0.498\n",
              "5      AFG      Asia  ...           64.83                   0.498\n",
              "6      AFG      Asia  ...           64.83                   0.498\n",
              "7      AFG      Asia  ...           64.83                   0.498\n",
              "8      AFG      Asia  ...           64.83                   0.498\n",
              "9      AFG      Asia  ...           64.83                   0.498\n",
              "\n",
              "[10 rows x 59 columns]"
            ]
          },
          "metadata": {
            "tags": []
          },
          "execution_count": 266
        }
      ]
    },
    {
      "cell_type": "markdown",
      "metadata": {
        "id": "b1QUCa0joTDj"
      },
      "source": [
        "##Data Cleaning\r\n",
        "1. check for null\r\n",
        "2. check for duplicates\r\n",
        "3. check for outliers\r\n",
        "4. check for structural errors"
      ]
    },
    {
      "cell_type": "code",
      "metadata": {
        "id": "umsh2gscBdkB",
        "colab": {
          "base_uri": "https://localhost:8080/"
        },
        "outputId": "ecfcf12e-ce49-4416-e711-afa7b33344b2"
      },
      "source": [
        "# to check whether ALL values are null in series of column\r\n",
        "df_wcc.isnull().all()"
      ],
      "execution_count": null,
      "outputs": [
        {
          "output_type": "execute_result",
          "data": {
            "text/plain": [
              "iso_code                                 False\n",
              "continent                                False\n",
              "location                                 False\n",
              "date                                     False\n",
              "total_cases                              False\n",
              "new_cases                                False\n",
              "new_cases_smoothed                       False\n",
              "total_deaths                             False\n",
              "new_deaths                               False\n",
              "new_deaths_smoothed                      False\n",
              "total_cases_per_million                  False\n",
              "new_cases_per_million                    False\n",
              "new_cases_smoothed_per_million           False\n",
              "total_deaths_per_million                 False\n",
              "new_deaths_per_million                   False\n",
              "new_deaths_smoothed_per_million          False\n",
              "reproduction_rate                        False\n",
              "icu_patients                             False\n",
              "icu_patients_per_million                 False\n",
              "hosp_patients                            False\n",
              "hosp_patients_per_million                False\n",
              "weekly_icu_admissions                    False\n",
              "weekly_icu_admissions_per_million        False\n",
              "weekly_hosp_admissions                   False\n",
              "weekly_hosp_admissions_per_million       False\n",
              "new_tests                                False\n",
              "total_tests                              False\n",
              "total_tests_per_thousand                 False\n",
              "new_tests_per_thousand                   False\n",
              "new_tests_smoothed                       False\n",
              "new_tests_smoothed_per_thousand          False\n",
              "positive_rate                            False\n",
              "tests_per_case                           False\n",
              "tests_units                              False\n",
              "total_vaccinations                       False\n",
              "people_vaccinated                        False\n",
              "people_fully_vaccinated                  False\n",
              "new_vaccinations                         False\n",
              "new_vaccinations_smoothed                False\n",
              "total_vaccinations_per_hundred           False\n",
              "people_vaccinated_per_hundred            False\n",
              "people_fully_vaccinated_per_hundred      False\n",
              "new_vaccinations_smoothed_per_million    False\n",
              "stringency_index                         False\n",
              "population                               False\n",
              "population_density                       False\n",
              "median_age                               False\n",
              "aged_65_older                            False\n",
              "aged_70_older                            False\n",
              "gdp_per_capita                           False\n",
              "extreme_poverty                          False\n",
              "cardiovasc_death_rate                    False\n",
              "diabetes_prevalence                      False\n",
              "female_smokers                           False\n",
              "male_smokers                             False\n",
              "handwashing_facilities                   False\n",
              "hospital_beds_per_thousand               False\n",
              "life_expectancy                          False\n",
              "human_development_index                  False\n",
              "dtype: bool"
            ]
          },
          "metadata": {
            "tags": []
          },
          "execution_count": 267
        }
      ]
    },
    {
      "cell_type": "code",
      "metadata": {
        "id": "Nc9JztbWBdc3",
        "colab": {
          "base_uri": "https://localhost:8080/"
        },
        "outputId": "5b0a9067-88f6-47b9-82bf-b7eecb1378ff"
      },
      "source": [
        "df_wcc.isnull().sum()"
      ],
      "execution_count": null,
      "outputs": [
        {
          "output_type": "execute_result",
          "data": {
            "text/plain": [
              "iso_code                                  1860\n",
              "continent                                 1860\n",
              "location                                     0\n",
              "date                                         0\n",
              "total_cases                                353\n",
              "new_cases                                  352\n",
              "new_cases_smoothed                         881\n",
              "total_deaths                              4269\n",
              "new_deaths                                4200\n",
              "new_deaths_smoothed                        881\n",
              "total_cases_per_million                   2210\n",
              "new_cases_per_million                     2212\n",
              "new_cases_smoothed_per_million            2712\n",
              "total_deaths_per_million                  6046\n",
              "new_deaths_per_million                    6047\n",
              "new_deaths_smoothed_per_million           2712\n",
              "reproduction_rate                         8275\n",
              "icu_patients                             31116\n",
              "icu_patients_per_million                 31116\n",
              "hosp_patients                            30236\n",
              "hosp_patients_per_million                30236\n",
              "weekly_icu_admissions                    35559\n",
              "weekly_icu_admissions_per_million        35559\n",
              "weekly_hosp_admissions                   35266\n",
              "weekly_hosp_admissions_per_million       35266\n",
              "new_tests                                20748\n",
              "total_tests                              21276\n",
              "total_tests_per_thousand                 21276\n",
              "new_tests_per_thousand                   20748\n",
              "new_tests_smoothed                       19125\n",
              "new_tests_smoothed_per_thousand          19125\n",
              "positive_rate                            20286\n",
              "tests_per_case                           20493\n",
              "tests_units                              18348\n",
              "total_vaccinations                       35062\n",
              "people_vaccinated                        35235\n",
              "people_fully_vaccinated                  35561\n",
              "new_vaccinations                         35190\n",
              "new_vaccinations_smoothed                34750\n",
              "total_vaccinations_per_hundred           35062\n",
              "people_vaccinated_per_hundred            35235\n",
              "people_fully_vaccinated_per_hundred      35561\n",
              "new_vaccinations_smoothed_per_million    34750\n",
              "stringency_index                          4617\n",
              "population                                1860\n",
              "population_density                        1860\n",
              "median_age                                3186\n",
              "aged_65_older                             3186\n",
              "aged_70_older                             3186\n",
              "gdp_per_capita                            2868\n",
              "extreme_poverty                          13122\n",
              "cardiovasc_death_rate                     2616\n",
              "diabetes_prevalence                       2188\n",
              "female_smokers                           10208\n",
              "male_smokers                             10539\n",
              "handwashing_facilities                   19338\n",
              "hospital_beds_per_thousand                4837\n",
              "life_expectancy                           2189\n",
              "human_development_index                   2189\n",
              "dtype: int64"
            ]
          },
          "metadata": {
            "tags": []
          },
          "execution_count": 268
        }
      ]
    },
    {
      "cell_type": "code",
      "metadata": {
        "id": "eMSlalKvBdBI",
        "colab": {
          "base_uri": "https://localhost:8080/"
        },
        "outputId": "63370b51-329e-4594-e0c0-14998621d1f0"
      },
      "source": [
        "#check whether there are any duplicate rows\r\n",
        "df_wcc.duplicated().value_counts()"
      ],
      "execution_count": null,
      "outputs": [
        {
          "output_type": "execute_result",
          "data": {
            "text/plain": [
              "False    35898\n",
              "dtype: int64"
            ]
          },
          "metadata": {
            "tags": []
          },
          "execution_count": 269
        }
      ]
    },
    {
      "cell_type": "code",
      "metadata": {
        "id": "VMNO3lJjpqUu"
      },
      "source": [
        ""
      ],
      "execution_count": null,
      "outputs": []
    }
  ]
}